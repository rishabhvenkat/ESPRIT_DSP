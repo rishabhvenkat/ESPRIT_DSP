{
  "nbformat": 4,
  "nbformat_minor": 0,
  "metadata": {
    "colab": {
      "provenance": [],
      "authorship_tag": "ABX9TyOp2YLwOGv2V4kKq3MUz5p8",
      "include_colab_link": true
    },
    "kernelspec": {
      "name": "python3",
      "display_name": "Python 3"
    },
    "language_info": {
      "name": "python"
    }
  },
  "cells": [
    {
      "cell_type": "markdown",
      "metadata": {
        "id": "view-in-github",
        "colab_type": "text"
      },
      "source": [
        "<a href=\"https://colab.research.google.com/github/rishabhvenkat/ESPRIT_DSP/blob/main/ESPRIT.ipynb\" target=\"_parent\"><img src=\"https://colab.research.google.com/assets/colab-badge.svg\" alt=\"Open In Colab\"/></a>"
      ]
    },
    {
      "cell_type": "code",
      "execution_count": 1,
      "metadata": {
        "colab": {
          "base_uri": "https://localhost:8080/"
        },
        "id": "uSGD8ckXYyZU",
        "outputId": "2b087afb-a6d9-4f6b-aaac-28d02266eb54"
      },
      "outputs": [
        {
          "output_type": "stream",
          "name": "stdout",
          "text": [
            "Requirement already satisfied: scipy in /usr/local/lib/python3.10/dist-packages (1.13.1)\n",
            "Requirement already satisfied: pandas in /usr/local/lib/python3.10/dist-packages (2.2.2)\n",
            "Requirement already satisfied: numpy<2.3,>=1.22.4 in /usr/local/lib/python3.10/dist-packages (from scipy) (1.26.4)\n",
            "Requirement already satisfied: python-dateutil>=2.8.2 in /usr/local/lib/python3.10/dist-packages (from pandas) (2.8.2)\n",
            "Requirement already satisfied: pytz>=2020.1 in /usr/local/lib/python3.10/dist-packages (from pandas) (2024.2)\n",
            "Requirement already satisfied: tzdata>=2022.7 in /usr/local/lib/python3.10/dist-packages (from pandas) (2024.2)\n",
            "Requirement already satisfied: six>=1.5 in /usr/local/lib/python3.10/dist-packages (from python-dateutil>=2.8.2->pandas) (1.16.0)\n"
          ]
        }
      ],
      "source": [
        "pip install scipy pandas\n"
      ]
    },
    {
      "cell_type": "code",
      "source": [
        "import scipy.io\n",
        "\n",
        "# Load the .mat file\n",
        "mat_file = 'signal_2_plus_noise.mat'  # Replace with your .mat file name\n",
        "mat_data = scipy.io.loadmat(mat_file)\n",
        "\n",
        "# Display the keys (variable names) in the .mat file\n",
        "print(\"Keys in the .mat file:\", mat_data.keys())\n"
      ],
      "metadata": {
        "colab": {
          "base_uri": "https://localhost:8080/"
        },
        "id": "uzlJndxJaGgG",
        "outputId": "e9b11eb4-a8fb-44c5-995d-df3541fccde2"
      },
      "execution_count": 2,
      "outputs": [
        {
          "output_type": "stream",
          "name": "stdout",
          "text": [
            "Keys in the .mat file: dict_keys(['__header__', '__version__', '__globals__', 'y'])\n"
          ]
        }
      ]
    },
    {
      "cell_type": "code",
      "source": [
        "import scipy.io\n",
        "import pandas as pd\n",
        "\n",
        "def mat_to_csv(mat_file, csv_file):\n",
        "    # Load the .mat file\n",
        "    mat_data = scipy.io.loadmat(mat_file)\n",
        "\n",
        "    # Display the keys in the .mat file\n",
        "    print(\"Keys in the .mat file:\", mat_data.keys())\n",
        "\n",
        "    # Assuming the variable of interest is named 'myVariable'\n",
        "    # Replace 'myVariable' with the actual name of the variable you want to export\n",
        "    variable_name = 'y'\n",
        "\n",
        "    if variable_name in mat_data:\n",
        "        # Extract the variable\n",
        "        data = mat_data[variable_name]\n",
        "\n",
        "        # Check the shape of the data\n",
        "        print(\"Shape of the variable data:\", data.shape)\n",
        "\n",
        "        # Convert the numpy array to a pandas DataFrame\n",
        "        df = pd.DataFrame(data)\n",
        "\n",
        "        # Write the DataFrame to a .csv file\n",
        "        df.to_csv(csv_file, index=False)\n",
        "        print(f\"Data has been successfully written to {csv_file}\")\n",
        "    else:\n",
        "        print(f\"Variable '{variable_name}' not found in the .mat file.\")\n",
        "\n",
        "# Example usage\n",
        "mat_file = 'signal_2_plus_noise.mat'  # Replace with your .mat file name\n",
        "csv_file = 'output_file.csv'  # Desired output .csv file name\n",
        "\n",
        "mat_to_csv(mat_file, csv_file)\n"
      ],
      "metadata": {
        "colab": {
          "base_uri": "https://localhost:8080/"
        },
        "id": "3JE4vievZWDI",
        "outputId": "2db23c3e-d2eb-42ab-f8a9-272e25864508"
      },
      "execution_count": 3,
      "outputs": [
        {
          "output_type": "stream",
          "name": "stdout",
          "text": [
            "Keys in the .mat file: dict_keys(['__header__', '__version__', '__globals__', 'y'])\n",
            "Shape of the variable data: (160, 266)\n",
            "Data has been successfully written to output_file.csv\n"
          ]
        }
      ]
    },
    {
      "cell_type": "code",
      "source": [
        "!pip install pandas\n",
        "\n"
      ],
      "metadata": {
        "colab": {
          "base_uri": "https://localhost:8080/"
        },
        "id": "A3YmEF8Sa2Bn",
        "outputId": "cd5b554e-2e33-4628-9e1f-58e227080557"
      },
      "execution_count": 5,
      "outputs": [
        {
          "output_type": "stream",
          "name": "stdout",
          "text": [
            "Requirement already satisfied: pandas in /usr/local/lib/python3.10/dist-packages (2.2.2)\n",
            "Requirement already satisfied: numpy>=1.22.4 in /usr/local/lib/python3.10/dist-packages (from pandas) (1.26.4)\n",
            "Requirement already satisfied: python-dateutil>=2.8.2 in /usr/local/lib/python3.10/dist-packages (from pandas) (2.8.2)\n",
            "Requirement already satisfied: pytz>=2020.1 in /usr/local/lib/python3.10/dist-packages (from pandas) (2024.2)\n",
            "Requirement already satisfied: tzdata>=2022.7 in /usr/local/lib/python3.10/dist-packages (from pandas) (2024.2)\n",
            "Requirement already satisfied: six>=1.5 in /usr/local/lib/python3.10/dist-packages (from python-dateutil>=2.8.2->pandas) (1.16.0)\n"
          ]
        }
      ]
    },
    {
      "cell_type": "code",
      "source": [
        "import pandas as pd\n",
        "\n",
        "# Read data from the CSV file\n",
        "csv_file = 'output_file.csv'  # Replace with your actual CSV file name\n",
        "\n",
        "# Load the CSV file without assuming a header\n",
        "data = pd.read_csv(csv_file, header=None)  # Use header=None to treat all rows as data\n",
        "\n",
        "# Display the original data\n",
        "print(\"Original Data:\")\n",
        "print(data)\n",
        "\n",
        "# Convert the first column to a NumPy array (using the first column which is index 0)\n",
        "data_values = data[0].to_numpy()  # Replace 0 with the correct index if needed\n",
        "\n",
        "# Get the length of the data\n",
        "N = len(data_values)\n",
        "\n",
        "# Create the two subarrays R1 and R2\n",
        "R1 = data_values[0:N-1]  # Elements from index 0 to (N-2) -> 1 to (N - 1)\n",
        "R2 = data_values[1:N]     # Elements from index 1 to (N-1) -> 2 to N\n",
        "\n",
        "# Print the results\n",
        "print(\"\\nSubarray R1 (1 to N-1):\", R1)\n",
        "print(\"Subarray R2 (2 to N):\", R2)\n",
        "\n"
      ],
      "metadata": {
        "colab": {
          "base_uri": "https://localhost:8080/"
        },
        "id": "LwYmpGqmdKKl",
        "outputId": "c984c671-e169-4cdf-a015-357f6a19bb08"
      },
      "execution_count": 8,
      "outputs": [
        {
          "output_type": "stream",
          "name": "stdout",
          "text": [
            "Original Data:\n",
            "          0         1         2         3         4         5         6    \\\n",
            "0    0.000000  1.000000  2.000000  3.000000  4.000000  5.000000  6.000000   \n",
            "1   -0.004514  0.000964  0.004871  0.004810 -0.001658 -0.001653  0.002705   \n",
            "2   -0.002131  0.000463  0.005810  0.004159  0.001452 -0.002823 -0.001101   \n",
            "3    0.003561 -0.000137  0.006340  0.000706  0.000748 -0.001581 -0.004931   \n",
            "4    0.000620  0.000206  0.004308  0.000157  0.000089  0.000185 -0.000668   \n",
            "..        ...       ...       ...       ...       ...       ...       ...   \n",
            "156 -0.002943 -0.001180 -0.005230 -0.002943  0.001232  0.000863  0.005481   \n",
            "157 -0.002385 -0.000584 -0.004046  0.000541 -0.000168 -0.001999  0.004219   \n",
            "158 -0.002428 -0.001600 -0.000375  0.004839  0.001081 -0.003810  0.001379   \n",
            "159 -0.004456 -0.000922  0.002560  0.003907  0.003026 -0.000248  0.000635   \n",
            "160 -0.001082  0.001311 -0.000569  0.000862  0.002344  0.000698 -0.001753   \n",
            "\n",
            "          7         8         9    ...         256         257         258  \\\n",
            "0    7.000000  8.000000  9.000000  ...  256.000000  257.000000  258.000000   \n",
            "1   -0.001787  0.001274 -0.001492  ...   -0.002866   -0.004961    0.000120   \n",
            "2   -0.002899  0.001290 -0.003480  ...   -0.002536   -0.000772    0.000007   \n",
            "3    0.000181 -0.001377 -0.005428  ...   -0.001441    0.002247    0.000778   \n",
            "4    0.004366  0.001011 -0.004407  ...    0.000373    0.002855    0.000554   \n",
            "..        ...       ...       ...  ...         ...         ...         ...   \n",
            "156  0.004597 -0.003760 -0.000573  ...   -0.000539   -0.001766   -0.001442   \n",
            "157  0.004719 -0.002705 -0.001379  ...   -0.002329   -0.003800   -0.001521   \n",
            "158  0.002480 -0.001267 -0.003094  ...   -0.001792   -0.004642   -0.001412   \n",
            "159  0.003490  0.001123 -0.000542  ...   -0.000920   -0.001072   -0.001592   \n",
            "160  0.001028  0.002300  0.001133  ...   -0.000383    0.001726   -0.002861   \n",
            "\n",
            "            259         260         261         262         263         264  \\\n",
            "0    259.000000  260.000000  261.000000  262.000000  263.000000  264.000000   \n",
            "1      0.002329   -0.000342    0.002061   -0.003230    0.000471   -0.000789   \n",
            "2      0.002614   -0.000459    0.001518   -0.001594    0.001945   -0.001648   \n",
            "3      0.002334   -0.001926    0.000184   -0.000293   -0.001079   -0.001732   \n",
            "4      0.004399   -0.000909   -0.001844    0.000536   -0.001689   -0.002421   \n",
            "..          ...         ...         ...         ...         ...         ...   \n",
            "156   -0.001688    0.002873    0.002213    0.003428   -0.001852   -0.000078   \n",
            "157    0.002311    0.004138    0.001758    0.001760    0.001146   -0.000008   \n",
            "158    0.001260    0.001628    0.000636    0.000654    0.000572    0.002885   \n",
            "159   -0.000517   -0.001768   -0.000647   -0.001341   -0.000167    0.003838   \n",
            "160    0.002139   -0.003066   -0.001707   -0.001777    0.003201    0.001658   \n",
            "\n",
            "            265  \n",
            "0    265.000000  \n",
            "1      0.004187  \n",
            "2      0.003826  \n",
            "3      0.005614  \n",
            "4      0.003495  \n",
            "..          ...  \n",
            "156   -0.001470  \n",
            "157   -0.001760  \n",
            "158    0.000191  \n",
            "159    0.002394  \n",
            "160    0.000813  \n",
            "\n",
            "[161 rows x 266 columns]\n",
            "\n",
            "Subarray R1 (1 to N-1): [ 0.         -0.00451416 -0.00213111  0.00356133  0.00061974 -0.00120878\n",
            " -0.00109396 -0.00079073 -0.00094607 -0.0035794  -0.00292484 -0.00282569\n",
            " -0.00183973  0.00300478  0.00383657  0.00112027  0.00139767  0.00353642\n",
            "  0.00393208  0.00780372  0.0098894   0.00853007  0.00909823  0.00684923\n",
            "  0.0066501   0.00121945 -0.01371527 -0.02128351 -0.01663895 -0.0108963\n",
            " -0.01020186 -0.00234155  0.01067842  0.01451286  0.00444717 -0.00193098\n",
            " -0.00263338 -0.01227461  0.00026923  0.00027917 -0.02700274 -0.02068963\n",
            " -0.01083593 -0.00155989  0.00062143  0.00107309  0.02351644  0.01493361\n",
            "  0.01539627  0.00492923 -0.0234536   0.00508463  0.02974467  0.0209186\n",
            "  0.00571014  0.02301442  0.02428985  0.00226473  0.01408054 -0.00702933\n",
            " -0.02882584 -0.04452757 -0.04349254 -0.01340061 -0.02642167 -0.02265209\n",
            " -0.00452407 -0.00639898  0.00516227  0.04299914  0.04765538  0.01985083\n",
            "  0.03645275  0.01519201 -0.01556954 -0.00513184 -0.00869501  0.00565134\n",
            " -0.0052068  -0.01872266  0.00866621  0.01205336  0.00576316 -0.0016747\n",
            "  0.00246107  0.00733168 -0.00905619 -0.00898705 -0.0189003  -0.00520329\n",
            "  0.01128425 -0.0095604  -0.00270563  0.00447012  0.0077702  -0.01453357\n",
            " -0.02318344  0.00420093 -0.00081877  0.00953335 -0.00430141 -0.01001842\n",
            "  0.00303832 -0.02590719 -0.00811321  0.00769749  0.01692519  0.04410675\n",
            "  0.00945824 -0.01447829 -0.00838634 -0.02231424 -0.01390674  0.00981436\n",
            "  0.02467033  0.01588425 -0.0136489  -0.01584655  0.00402381  0.00939343\n",
            " -0.01904443 -0.03341207 -0.01951091 -0.00782249  0.01787886  0.01448361\n",
            "  0.00982802  0.02212085  0.00379661  0.0054154   0.01594271  0.01337791\n",
            "  0.01102881 -0.00493833 -0.0129656  -0.00683576  0.00181673  0.00111489\n",
            " -0.00844467 -0.00208019  0.00559208 -0.00174044 -0.00134446  0.00077433\n",
            " -0.00192802  0.00022247 -0.00162371 -0.00325811 -0.00246607 -0.00191093\n",
            "  0.00023606 -0.00017928  0.00182578  0.00368314  0.00011053 -0.00245123\n",
            " -0.00294347 -0.002385   -0.00242807 -0.00445595]\n",
            "Subarray R2 (2 to N): [-0.00451416 -0.00213111  0.00356133  0.00061974 -0.00120878 -0.00109396\n",
            " -0.00079073 -0.00094607 -0.0035794  -0.00292484 -0.00282569 -0.00183973\n",
            "  0.00300478  0.00383657  0.00112027  0.00139767  0.00353642  0.00393208\n",
            "  0.00780372  0.0098894   0.00853007  0.00909823  0.00684923  0.0066501\n",
            "  0.00121945 -0.01371527 -0.02128351 -0.01663895 -0.0108963  -0.01020186\n",
            " -0.00234155  0.01067842  0.01451286  0.00444717 -0.00193098 -0.00263338\n",
            " -0.01227461  0.00026923  0.00027917 -0.02700274 -0.02068963 -0.01083593\n",
            " -0.00155989  0.00062143  0.00107309  0.02351644  0.01493361  0.01539627\n",
            "  0.00492923 -0.0234536   0.00508463  0.02974467  0.0209186   0.00571014\n",
            "  0.02301442  0.02428985  0.00226473  0.01408054 -0.00702933 -0.02882584\n",
            " -0.04452757 -0.04349254 -0.01340061 -0.02642167 -0.02265209 -0.00452407\n",
            " -0.00639898  0.00516227  0.04299914  0.04765538  0.01985083  0.03645275\n",
            "  0.01519201 -0.01556954 -0.00513184 -0.00869501  0.00565134 -0.0052068\n",
            " -0.01872266  0.00866621  0.01205336  0.00576316 -0.0016747   0.00246107\n",
            "  0.00733168 -0.00905619 -0.00898705 -0.0189003  -0.00520329  0.01128425\n",
            " -0.0095604  -0.00270563  0.00447012  0.0077702  -0.01453357 -0.02318344\n",
            "  0.00420093 -0.00081877  0.00953335 -0.00430141 -0.01001842  0.00303832\n",
            " -0.02590719 -0.00811321  0.00769749  0.01692519  0.04410675  0.00945824\n",
            " -0.01447829 -0.00838634 -0.02231424 -0.01390674  0.00981436  0.02467033\n",
            "  0.01588425 -0.0136489  -0.01584655  0.00402381  0.00939343 -0.01904443\n",
            " -0.03341207 -0.01951091 -0.00782249  0.01787886  0.01448361  0.00982802\n",
            "  0.02212085  0.00379661  0.0054154   0.01594271  0.01337791  0.01102881\n",
            " -0.00493833 -0.0129656  -0.00683576  0.00181673  0.00111489 -0.00844467\n",
            " -0.00208019  0.00559208 -0.00174044 -0.00134446  0.00077433 -0.00192802\n",
            "  0.00022247 -0.00162371 -0.00325811 -0.00246607 -0.00191093  0.00023606\n",
            " -0.00017928  0.00182578  0.00368314  0.00011053 -0.00245123 -0.00294347\n",
            " -0.002385   -0.00242807 -0.00445595 -0.00108154]\n"
          ]
        }
      ]
    },
    {
      "cell_type": "code",
      "source": [],
      "metadata": {
        "id": "HZTnzCu_dWkk"
      },
      "execution_count": null,
      "outputs": []
    }
  ]
}